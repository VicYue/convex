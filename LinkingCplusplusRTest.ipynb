{
 "cells": [
  {
   "cell_type": "markdown",
   "id": "ead36a6e",
   "metadata": {},
   "source": [
    "# Notebook for testing R package 'convex'"
   ]
  },
  {
   "cell_type": "markdown",
   "id": "c2751db5",
   "metadata": {},
   "source": [
    "This notebook is an illustration of using Jarvis March function for finding convex hull of a set of points in a plane. The 'jarvis_march' function is contained in the R package made from C++ scripts, within the 'convex' package, there are also other functions to better understand and visialize the convex hull within the package."
   ]
  },
  {
   "cell_type": "markdown",
   "id": "44abce5e",
   "metadata": {},
   "source": [
    "## Part A\n",
    "Using the package 'devtools' to download the R package 'convex' from my personal github account (username: VicYue)"
   ]
  },
  {
   "cell_type": "code",
   "execution_count": 1,
   "id": "1e09af36",
   "metadata": {},
   "outputs": [
    {
     "name": "stderr",
     "output_type": "stream",
     "text": [
      "Installing package into ‘/home/yuew1/STOR-601-env/R-packages’\n",
      "(as ‘lib’ is unspecified)\n",
      "\n"
     ]
    }
   ],
   "source": [
    "install.packages('devtools')"
   ]
  },
  {
   "cell_type": "code",
   "execution_count": 2,
   "id": "2a77d253",
   "metadata": {},
   "outputs": [
    {
     "name": "stderr",
     "output_type": "stream",
     "text": [
      "Loading required package: usethis\n",
      "\n"
     ]
    }
   ],
   "source": [
    "library('devtools')"
   ]
  },
  {
   "cell_type": "code",
   "execution_count": 3,
   "id": "24b12b0d",
   "metadata": {},
   "outputs": [
    {
     "name": "stderr",
     "output_type": "stream",
     "text": [
      "Skipping install of 'convex' from a github remote, the SHA1 (e04d480a) has not changed since last install.\n",
      "  Use `force = TRUE` to force installation\n",
      "\n"
     ]
    }
   ],
   "source": [
    "install_github(\"VicYue/convex\")"
   ]
  },
  {
   "cell_type": "code",
   "execution_count": 4,
   "id": "56d7e5ec",
   "metadata": {},
   "outputs": [],
   "source": [
    "library(convex)"
   ]
  },
  {
   "cell_type": "markdown",
   "id": "ecb875ed",
   "metadata": {},
   "source": [
    "## Part B\n",
    "Testing Jarvis March function using jarvis_march() in the 'convex' package, the input is a list of points in a plane and the output is a list of line segments connecting the convex hull with each element $(x_{i},y_{i},x_{i+1},y_{i+1})$ representing a line from point $(x_{i},y_{i})$ to point $(x_{i+1},y_{i+1})$."
   ]
  },
  {
   "cell_type": "code",
   "execution_count": 5,
   "id": "9ce279a6",
   "metadata": {},
   "outputs": [],
   "source": [
    "dataline <- read.csv(\"line.csv\",header=FALSE)\n",
    "data_line <- list()\n",
    "for (i in 1:nrow(dataline)){\n",
    "    data_line[[i]]<- c(dataline[i,1],dataline[i,2])\n",
    "}"
   ]
  },
  {
   "cell_type": "code",
   "execution_count": 6,
   "id": "b5e899e1",
   "metadata": {},
   "outputs": [
    {
     "data": {
      "text/html": [
       "<ol>\n",
       "\t<li><style>\n",
       ".list-inline {list-style: none; margin:0; padding: 0}\n",
       ".list-inline>li {display: inline-block}\n",
       ".list-inline>li:not(:last-child)::after {content: \"\\00b7\"; padding: 0 .5ex}\n",
       "</style>\n",
       "<ol class=list-inline><li>1</li><li>1</li><li>3</li><li>3</li></ol>\n",
       "</li>\n",
       "\t<li><style>\n",
       ".list-inline {list-style: none; margin:0; padding: 0}\n",
       ".list-inline>li {display: inline-block}\n",
       ".list-inline>li:not(:last-child)::after {content: \"\\00b7\"; padding: 0 .5ex}\n",
       "</style>\n",
       "<ol class=list-inline><li>3</li><li>3</li><li>1</li><li>1</li></ol>\n",
       "</li>\n",
       "</ol>\n"
      ],
      "text/latex": [
       "\\begin{enumerate}\n",
       "\\item \\begin{enumerate*}\n",
       "\\item 1\n",
       "\\item 1\n",
       "\\item 3\n",
       "\\item 3\n",
       "\\end{enumerate*}\n",
       "\n",
       "\\item \\begin{enumerate*}\n",
       "\\item 3\n",
       "\\item 3\n",
       "\\item 1\n",
       "\\item 1\n",
       "\\end{enumerate*}\n",
       "\n",
       "\\end{enumerate}\n"
      ],
      "text/markdown": [
       "1. 1. 1\n",
       "2. 1\n",
       "3. 3\n",
       "4. 3\n",
       "\n",
       "\n",
       "\n",
       "2. 1. 3\n",
       "2. 3\n",
       "3. 1\n",
       "4. 1\n",
       "\n",
       "\n",
       "\n",
       "\n",
       "\n"
      ],
      "text/plain": [
       "[[1]]\n",
       "[1] 1 1 3 3\n",
       "\n",
       "[[2]]\n",
       "[1] 3 3 1 1\n"
      ]
     },
     "metadata": {},
     "output_type": "display_data"
    }
   ],
   "source": [
    "jarvis_march(data_line)"
   ]
  },
  {
   "cell_type": "code",
   "execution_count": 7,
   "id": "9e653c2d",
   "metadata": {},
   "outputs": [],
   "source": [
    "datapgram <- read.csv(\"pgram.csv\",header=FALSE)\n",
    "data_pgram <- list()\n",
    "for (i in 1:nrow(datapgram)){\n",
    "    data_pgram[[i]]<- c(datapgram[i,1],datapgram[i,2])\n",
    "}"
   ]
  },
  {
   "cell_type": "code",
   "execution_count": 8,
   "id": "93f090cc",
   "metadata": {},
   "outputs": [
    {
     "data": {
      "text/html": [
       "<ol>\n",
       "\t<li><style>\n",
       ".list-inline {list-style: none; margin:0; padding: 0}\n",
       ".list-inline>li {display: inline-block}\n",
       ".list-inline>li:not(:last-child)::after {content: \"\\00b7\"; padding: 0 .5ex}\n",
       "</style>\n",
       "<ol class=list-inline><li>1</li><li>1</li><li>2</li><li>1</li></ol>\n",
       "</li>\n",
       "\t<li><style>\n",
       ".list-inline {list-style: none; margin:0; padding: 0}\n",
       ".list-inline>li {display: inline-block}\n",
       ".list-inline>li:not(:last-child)::after {content: \"\\00b7\"; padding: 0 .5ex}\n",
       "</style>\n",
       "<ol class=list-inline><li>2</li><li>1</li><li>3</li><li>2</li></ol>\n",
       "</li>\n",
       "\t<li><style>\n",
       ".list-inline {list-style: none; margin:0; padding: 0}\n",
       ".list-inline>li {display: inline-block}\n",
       ".list-inline>li:not(:last-child)::after {content: \"\\00b7\"; padding: 0 .5ex}\n",
       "</style>\n",
       "<ol class=list-inline><li>3</li><li>2</li><li>2.5</li><li>2.5</li></ol>\n",
       "</li>\n",
       "\t<li><style>\n",
       ".list-inline {list-style: none; margin:0; padding: 0}\n",
       ".list-inline>li {display: inline-block}\n",
       ".list-inline>li:not(:last-child)::after {content: \"\\00b7\"; padding: 0 .5ex}\n",
       "</style>\n",
       "<ol class=list-inline><li>2.5</li><li>2.5</li><li>1</li><li>1</li></ol>\n",
       "</li>\n",
       "</ol>\n"
      ],
      "text/latex": [
       "\\begin{enumerate}\n",
       "\\item \\begin{enumerate*}\n",
       "\\item 1\n",
       "\\item 1\n",
       "\\item 2\n",
       "\\item 1\n",
       "\\end{enumerate*}\n",
       "\n",
       "\\item \\begin{enumerate*}\n",
       "\\item 2\n",
       "\\item 1\n",
       "\\item 3\n",
       "\\item 2\n",
       "\\end{enumerate*}\n",
       "\n",
       "\\item \\begin{enumerate*}\n",
       "\\item 3\n",
       "\\item 2\n",
       "\\item 2.5\n",
       "\\item 2.5\n",
       "\\end{enumerate*}\n",
       "\n",
       "\\item \\begin{enumerate*}\n",
       "\\item 2.5\n",
       "\\item 2.5\n",
       "\\item 1\n",
       "\\item 1\n",
       "\\end{enumerate*}\n",
       "\n",
       "\\end{enumerate}\n"
      ],
      "text/markdown": [
       "1. 1. 1\n",
       "2. 1\n",
       "3. 2\n",
       "4. 1\n",
       "\n",
       "\n",
       "\n",
       "2. 1. 2\n",
       "2. 1\n",
       "3. 3\n",
       "4. 2\n",
       "\n",
       "\n",
       "\n",
       "3. 1. 3\n",
       "2. 2\n",
       "3. 2.5\n",
       "4. 2.5\n",
       "\n",
       "\n",
       "\n",
       "4. 1. 2.5\n",
       "2. 2.5\n",
       "3. 1\n",
       "4. 1\n",
       "\n",
       "\n",
       "\n",
       "\n",
       "\n"
      ],
      "text/plain": [
       "[[1]]\n",
       "[1] 1 1 2 1\n",
       "\n",
       "[[2]]\n",
       "[1] 2 1 3 2\n",
       "\n",
       "[[3]]\n",
       "[1] 3.0 2.0 2.5 2.5\n",
       "\n",
       "[[4]]\n",
       "[1] 2.5 2.5 1.0 1.0\n"
      ]
     },
     "metadata": {},
     "output_type": "display_data"
    }
   ],
   "source": [
    "jarvis_march(data_pgram)"
   ]
  },
  {
   "cell_type": "code",
   "execution_count": 9,
   "id": "bdad0d3a",
   "metadata": {},
   "outputs": [],
   "source": [
    "datarandom <- read.csv(\"random.csv\",header=FALSE)\n",
    "data_random <- list()\n",
    "for (i in 1:nrow(datarandom)){\n",
    "    data_random[[i]]<- c(datarandom[i,1],datarandom[i,2])\n",
    "}"
   ]
  },
  {
   "cell_type": "code",
   "execution_count": 10,
   "id": "ef5265eb",
   "metadata": {},
   "outputs": [
    {
     "data": {
      "text/html": [
       "<ol>\n",
       "\t<li><style>\n",
       ".list-inline {list-style: none; margin:0; padding: 0}\n",
       ".list-inline>li {display: inline-block}\n",
       ".list-inline>li:not(:last-child)::after {content: \"\\00b7\"; padding: 0 .5ex}\n",
       "</style>\n",
       "<ol class=list-inline><li>-0.71657388106957</li><li>1.20219702232312</li><li>-0.605200231305254</li><li>0.957134110706781</li></ol>\n",
       "</li>\n",
       "\t<li><style>\n",
       ".list-inline {list-style: none; margin:0; padding: 0}\n",
       ".list-inline>li {display: inline-block}\n",
       ".list-inline>li:not(:last-child)::after {content: \"\\00b7\"; padding: 0 .5ex}\n",
       "</style>\n",
       "<ol class=list-inline><li>-0.605200231305254</li><li>0.957134110706781</li><li>-0.432249029757549</li><li>0.600185398765638</li></ol>\n",
       "</li>\n",
       "\t<li><style>\n",
       ".list-inline {list-style: none; margin:0; padding: 0}\n",
       ".list-inline>li {display: inline-block}\n",
       ".list-inline>li:not(:last-child)::after {content: \"\\00b7\"; padding: 0 .5ex}\n",
       "</style>\n",
       "<ol class=list-inline><li>-0.432249029757549</li><li>0.600185398765638</li><li>0.156196864138666</li><li>0.537196258340319</li></ol>\n",
       "</li>\n",
       "\t<li><style>\n",
       ".list-inline {list-style: none; margin:0; padding: 0}\n",
       ".list-inline>li {display: inline-block}\n",
       ".list-inline>li:not(:last-child)::after {content: \"\\00b7\"; padding: 0 .5ex}\n",
       "</style>\n",
       "<ol class=list-inline><li>0.156196864138666</li><li>0.537196258340319</li><li>0.353922330922547</li><li>0.654945271536898</li></ol>\n",
       "</li>\n",
       "\t<li><style>\n",
       ".list-inline {list-style: none; margin:0; padding: 0}\n",
       ".list-inline>li {display: inline-block}\n",
       ".list-inline>li:not(:last-child)::after {content: \"\\00b7\"; padding: 0 .5ex}\n",
       "</style>\n",
       "<ol class=list-inline><li>0.353922330922547</li><li>0.654945271536898</li><li>0.505823570824408</li><li>1.12001307650065</li></ol>\n",
       "</li>\n",
       "\t<li><style>\n",
       ".list-inline {list-style: none; margin:0; padding: 0}\n",
       ".list-inline>li {display: inline-block}\n",
       ".list-inline>li:not(:last-child)::after {content: \"\\00b7\"; padding: 0 .5ex}\n",
       "</style>\n",
       "<ol class=list-inline><li>0.505823570824408</li><li>1.12001307650065</li><li>0.358984412999769</li><li>1.56677311480003</li></ol>\n",
       "</li>\n",
       "\t<li><style>\n",
       ".list-inline {list-style: none; margin:0; padding: 0}\n",
       ".list-inline>li {display: inline-block}\n",
       ".list-inline>li:not(:last-child)::after {content: \"\\00b7\"; padding: 0 .5ex}\n",
       "</style>\n",
       "<ol class=list-inline><li>0.358984412999769</li><li>1.56677311480003</li><li>-0.380951747864001</li><li>1.45310545712829</li></ol>\n",
       "</li>\n",
       "\t<li><style>\n",
       ".list-inline {list-style: none; margin:0; padding: 0}\n",
       ".list-inline>li {display: inline-block}\n",
       ".list-inline>li:not(:last-child)::after {content: \"\\00b7\"; padding: 0 .5ex}\n",
       "</style>\n",
       "<ol class=list-inline><li>-0.380951747864001</li><li>1.45310545712829</li><li>-0.545292317957066</li><li>1.4050365090573</li></ol>\n",
       "</li>\n",
       "\t<li><style>\n",
       ".list-inline {list-style: none; margin:0; padding: 0}\n",
       ".list-inline>li {display: inline-block}\n",
       ".list-inline>li:not(:last-child)::after {content: \"\\00b7\"; padding: 0 .5ex}\n",
       "</style>\n",
       "<ol class=list-inline><li>-0.545292317957066</li><li>1.4050365090573</li><li>-0.71657388106957</li><li>1.20219702232312</li></ol>\n",
       "</li>\n",
       "</ol>\n"
      ],
      "text/latex": [
       "\\begin{enumerate}\n",
       "\\item \\begin{enumerate*}\n",
       "\\item -0.71657388106957\n",
       "\\item 1.20219702232312\n",
       "\\item -0.605200231305254\n",
       "\\item 0.957134110706781\n",
       "\\end{enumerate*}\n",
       "\n",
       "\\item \\begin{enumerate*}\n",
       "\\item -0.605200231305254\n",
       "\\item 0.957134110706781\n",
       "\\item -0.432249029757549\n",
       "\\item 0.600185398765638\n",
       "\\end{enumerate*}\n",
       "\n",
       "\\item \\begin{enumerate*}\n",
       "\\item -0.432249029757549\n",
       "\\item 0.600185398765638\n",
       "\\item 0.156196864138666\n",
       "\\item 0.537196258340319\n",
       "\\end{enumerate*}\n",
       "\n",
       "\\item \\begin{enumerate*}\n",
       "\\item 0.156196864138666\n",
       "\\item 0.537196258340319\n",
       "\\item 0.353922330922547\n",
       "\\item 0.654945271536898\n",
       "\\end{enumerate*}\n",
       "\n",
       "\\item \\begin{enumerate*}\n",
       "\\item 0.353922330922547\n",
       "\\item 0.654945271536898\n",
       "\\item 0.505823570824408\n",
       "\\item 1.12001307650065\n",
       "\\end{enumerate*}\n",
       "\n",
       "\\item \\begin{enumerate*}\n",
       "\\item 0.505823570824408\n",
       "\\item 1.12001307650065\n",
       "\\item 0.358984412999769\n",
       "\\item 1.56677311480003\n",
       "\\end{enumerate*}\n",
       "\n",
       "\\item \\begin{enumerate*}\n",
       "\\item 0.358984412999769\n",
       "\\item 1.56677311480003\n",
       "\\item -0.380951747864001\n",
       "\\item 1.45310545712829\n",
       "\\end{enumerate*}\n",
       "\n",
       "\\item \\begin{enumerate*}\n",
       "\\item -0.380951747864001\n",
       "\\item 1.45310545712829\n",
       "\\item -0.545292317957066\n",
       "\\item 1.4050365090573\n",
       "\\end{enumerate*}\n",
       "\n",
       "\\item \\begin{enumerate*}\n",
       "\\item -0.545292317957066\n",
       "\\item 1.4050365090573\n",
       "\\item -0.71657388106957\n",
       "\\item 1.20219702232312\n",
       "\\end{enumerate*}\n",
       "\n",
       "\\end{enumerate}\n"
      ],
      "text/markdown": [
       "1. 1. -0.71657388106957\n",
       "2. 1.20219702232312\n",
       "3. -0.605200231305254\n",
       "4. 0.957134110706781\n",
       "\n",
       "\n",
       "\n",
       "2. 1. -0.605200231305254\n",
       "2. 0.957134110706781\n",
       "3. -0.432249029757549\n",
       "4. 0.600185398765638\n",
       "\n",
       "\n",
       "\n",
       "3. 1. -0.432249029757549\n",
       "2. 0.600185398765638\n",
       "3. 0.156196864138666\n",
       "4. 0.537196258340319\n",
       "\n",
       "\n",
       "\n",
       "4. 1. 0.156196864138666\n",
       "2. 0.537196258340319\n",
       "3. 0.353922330922547\n",
       "4. 0.654945271536898\n",
       "\n",
       "\n",
       "\n",
       "5. 1. 0.353922330922547\n",
       "2. 0.654945271536898\n",
       "3. 0.505823570824408\n",
       "4. 1.12001307650065\n",
       "\n",
       "\n",
       "\n",
       "6. 1. 0.505823570824408\n",
       "2. 1.12001307650065\n",
       "3. 0.358984412999769\n",
       "4. 1.56677311480003\n",
       "\n",
       "\n",
       "\n",
       "7. 1. 0.358984412999769\n",
       "2. 1.56677311480003\n",
       "3. -0.380951747864001\n",
       "4. 1.45310545712829\n",
       "\n",
       "\n",
       "\n",
       "8. 1. -0.380951747864001\n",
       "2. 1.45310545712829\n",
       "3. -0.545292317957066\n",
       "4. 1.4050365090573\n",
       "\n",
       "\n",
       "\n",
       "9. 1. -0.545292317957066\n",
       "2. 1.4050365090573\n",
       "3. -0.71657388106957\n",
       "4. 1.20219702232312\n",
       "\n",
       "\n",
       "\n",
       "\n",
       "\n"
      ],
      "text/plain": [
       "[[1]]\n",
       "[1] -0.7165739  1.2021970 -0.6052002  0.9571341\n",
       "\n",
       "[[2]]\n",
       "[1] -0.6052002  0.9571341 -0.4322490  0.6001854\n",
       "\n",
       "[[3]]\n",
       "[1] -0.4322490  0.6001854  0.1561969  0.5371963\n",
       "\n",
       "[[4]]\n",
       "[1] 0.1561969 0.5371963 0.3539223 0.6549453\n",
       "\n",
       "[[5]]\n",
       "[1] 0.3539223 0.6549453 0.5058236 1.1200131\n",
       "\n",
       "[[6]]\n",
       "[1] 0.5058236 1.1200131 0.3589844 1.5667731\n",
       "\n",
       "[[7]]\n",
       "[1]  0.3589844  1.5667731 -0.3809517  1.4531055\n",
       "\n",
       "[[8]]\n",
       "[1] -0.3809517  1.4531055 -0.5452923  1.4050365\n",
       "\n",
       "[[9]]\n",
       "[1] -0.5452923  1.4050365 -0.7165739  1.2021970\n"
      ]
     },
     "metadata": {},
     "output_type": "display_data"
    }
   ],
   "source": [
    "jarvis_march(data_random)"
   ]
  },
  {
   "cell_type": "code",
   "execution_count": 11,
   "id": "c0bde7e2",
   "metadata": {},
   "outputs": [],
   "source": [
    "datasquare <- read.csv(\"square.csv\",header=FALSE)\n",
    "data_square <- list()\n",
    "for (i in 1:nrow(datasquare)){\n",
    "    data_square[[i]]<- c(datasquare[i,1],datasquare[i,2])\n",
    "}"
   ]
  },
  {
   "cell_type": "code",
   "execution_count": 12,
   "id": "64e249b4",
   "metadata": {},
   "outputs": [
    {
     "data": {
      "text/html": [
       "<ol>\n",
       "\t<li><style>\n",
       ".list-inline {list-style: none; margin:0; padding: 0}\n",
       ".list-inline>li {display: inline-block}\n",
       ".list-inline>li:not(:last-child)::after {content: \"\\00b7\"; padding: 0 .5ex}\n",
       "</style>\n",
       "<ol class=list-inline><li>1</li><li>2</li><li>1</li><li>1</li></ol>\n",
       "</li>\n",
       "\t<li><style>\n",
       ".list-inline {list-style: none; margin:0; padding: 0}\n",
       ".list-inline>li {display: inline-block}\n",
       ".list-inline>li:not(:last-child)::after {content: \"\\00b7\"; padding: 0 .5ex}\n",
       "</style>\n",
       "<ol class=list-inline><li>1</li><li>1</li><li>2</li><li>1</li></ol>\n",
       "</li>\n",
       "\t<li><style>\n",
       ".list-inline {list-style: none; margin:0; padding: 0}\n",
       ".list-inline>li {display: inline-block}\n",
       ".list-inline>li:not(:last-child)::after {content: \"\\00b7\"; padding: 0 .5ex}\n",
       "</style>\n",
       "<ol class=list-inline><li>2</li><li>1</li><li>2</li><li>2</li></ol>\n",
       "</li>\n",
       "\t<li><style>\n",
       ".list-inline {list-style: none; margin:0; padding: 0}\n",
       ".list-inline>li {display: inline-block}\n",
       ".list-inline>li:not(:last-child)::after {content: \"\\00b7\"; padding: 0 .5ex}\n",
       "</style>\n",
       "<ol class=list-inline><li>2</li><li>2</li><li>1.5</li><li>2.5</li></ol>\n",
       "</li>\n",
       "\t<li><style>\n",
       ".list-inline {list-style: none; margin:0; padding: 0}\n",
       ".list-inline>li {display: inline-block}\n",
       ".list-inline>li:not(:last-child)::after {content: \"\\00b7\"; padding: 0 .5ex}\n",
       "</style>\n",
       "<ol class=list-inline><li>1.5</li><li>2.5</li><li>1</li><li>2</li></ol>\n",
       "</li>\n",
       "</ol>\n"
      ],
      "text/latex": [
       "\\begin{enumerate}\n",
       "\\item \\begin{enumerate*}\n",
       "\\item 1\n",
       "\\item 2\n",
       "\\item 1\n",
       "\\item 1\n",
       "\\end{enumerate*}\n",
       "\n",
       "\\item \\begin{enumerate*}\n",
       "\\item 1\n",
       "\\item 1\n",
       "\\item 2\n",
       "\\item 1\n",
       "\\end{enumerate*}\n",
       "\n",
       "\\item \\begin{enumerate*}\n",
       "\\item 2\n",
       "\\item 1\n",
       "\\item 2\n",
       "\\item 2\n",
       "\\end{enumerate*}\n",
       "\n",
       "\\item \\begin{enumerate*}\n",
       "\\item 2\n",
       "\\item 2\n",
       "\\item 1.5\n",
       "\\item 2.5\n",
       "\\end{enumerate*}\n",
       "\n",
       "\\item \\begin{enumerate*}\n",
       "\\item 1.5\n",
       "\\item 2.5\n",
       "\\item 1\n",
       "\\item 2\n",
       "\\end{enumerate*}\n",
       "\n",
       "\\end{enumerate}\n"
      ],
      "text/markdown": [
       "1. 1. 1\n",
       "2. 2\n",
       "3. 1\n",
       "4. 1\n",
       "\n",
       "\n",
       "\n",
       "2. 1. 1\n",
       "2. 1\n",
       "3. 2\n",
       "4. 1\n",
       "\n",
       "\n",
       "\n",
       "3. 1. 2\n",
       "2. 1\n",
       "3. 2\n",
       "4. 2\n",
       "\n",
       "\n",
       "\n",
       "4. 1. 2\n",
       "2. 2\n",
       "3. 1.5\n",
       "4. 2.5\n",
       "\n",
       "\n",
       "\n",
       "5. 1. 1.5\n",
       "2. 2.5\n",
       "3. 1\n",
       "4. 2\n",
       "\n",
       "\n",
       "\n",
       "\n",
       "\n"
      ],
      "text/plain": [
       "[[1]]\n",
       "[1] 1 2 1 1\n",
       "\n",
       "[[2]]\n",
       "[1] 1 1 2 1\n",
       "\n",
       "[[3]]\n",
       "[1] 2 1 2 2\n",
       "\n",
       "[[4]]\n",
       "[1] 2.0 2.0 1.5 2.5\n",
       "\n",
       "[[5]]\n",
       "[1] 1.5 2.5 1.0 2.0\n"
      ]
     },
     "metadata": {},
     "output_type": "display_data"
    }
   ],
   "source": [
    "jarvis_march(data_square)"
   ]
  },
  {
   "cell_type": "markdown",
   "id": "57f4a06f",
   "metadata": {},
   "source": [
    "## Part C\n",
    "The 'plotconvex' function in the R package takes the same input as 'jarvis_march' (a list of points in a plane), and output a plot that illustrate both the input points and highlighted (red) convex hull points with red line segments connecting the convex hull."
   ]
  },
  {
   "cell_type": "code",
   "execution_count": 13,
   "id": "924132ad",
   "metadata": {},
   "outputs": [
    {
     "data": {
      "image/png": "[encoded data removed]",
      "text/plain": [
       "Plot with title “Convex_Hull”"
      ]
     },
     "metadata": {
      "image/png": {
       "height": 420,
       "width": 420
      }
     },
     "output_type": "display_data"
    }
   ],
   "source": [
    "plotconvex(data_line)"
   ]
  },
  {
   "cell_type": "code",
   "execution_count": 14,
   "id": "f402a55d",
   "metadata": {},
   "outputs": [
    {
     "data": {
      "image/png": "[encoded data removed]",
      "text/plain": [
       "Plot with title “Convex_Hull”"
      ]
     },
     "metadata": {
      "image/png": {
       "height": 420,
       "width": 420
      }
     },
     "output_type": "display_data"
    }
   ],
   "source": [
    "plotconvex(data_pgram)"
   ]
  },
  {
   "cell_type": "code",
   "execution_count": 15,
   "id": "5928eac7",
   "metadata": {},
   "outputs": [
    {
     "data": {
      "image/png": "[encoded data removed]",
      "text/plain": [
       "Plot with title “Convex_Hull”"
      ]
     },
     "metadata": {
      "image/png": {
       "height": 420,
       "width": 420
      }
     },
     "output_type": "display_data"
    }
   ],
   "source": [
    "plotconvex(data_random)"
   ]
  },
  {
   "cell_type": "code",
   "execution_count": 16,
   "id": "640ca79d",
   "metadata": {},
   "outputs": [
    {
     "data": {
      "image/png": "[encoded data removed]",
      "text/plain": [
       "Plot with title “Convex_Hull”"
      ]
     },
     "metadata": {
      "image/png": {
       "height": 420,
       "width": 420
      }
     },
     "output_type": "display_data"
    }
   ],
   "source": [
    "plotconvex(data_square)"
   ]
  },
  {
   "cell_type": "markdown",
   "id": "5fab1d84",
   "metadata": {},
   "source": [
    "## Part D\n",
    "We might also be interested in checking if a certain point (or points) is (are) in the convex hull. What we mean by 'in the convex hull' is whether the point is an element from the output of jarvis march function. Taking the square dataset for example, we know from the previous result that the convex hull are {$(1,1), (2,1), (2,2), (1.5,2.5), (1,2)$}. All the possible output of the function are illustrated in the following tests. "
   ]
  },
  {
   "cell_type": "markdown",
   "id": "1920f198",
   "metadata": {},
   "source": [
    "#### Test 1: When all the points we want to test are elements from the convex hull"
   ]
  },
  {
   "cell_type": "code",
   "execution_count": 17,
   "id": "e949697f",
   "metadata": {},
   "outputs": [
    {
     "name": "stdout",
     "output_type": "stream",
     "text": [
      "[1] \"All the points are in the Convex Hull\"\n"
     ]
    }
   ],
   "source": [
    "inhull(data_square,list(c(1,1)))"
   ]
  },
  {
   "cell_type": "code",
   "execution_count": 18,
   "id": "d5014e9d",
   "metadata": {},
   "outputs": [
    {
     "name": "stdout",
     "output_type": "stream",
     "text": [
      "[1] \"All the points are in the Convex Hull\"\n"
     ]
    }
   ],
   "source": [
    "inhull(data_square,list(c(1,1),c(2,1),c(1.5,2.5)))"
   ]
  },
  {
   "cell_type": "markdown",
   "id": "86e65947",
   "metadata": {},
   "source": [
    "#### Test 2: When SOME of the points we want to test are elements from the convex hull, but SOME of them aren't"
   ]
  },
  {
   "cell_type": "code",
   "execution_count": 19,
   "id": "63bfaf1b",
   "metadata": {},
   "outputs": [
    {
     "name": "stdout",
     "output_type": "stream",
     "text": [
      "[1] \"Some of the points are in the Convex Hull\"\n"
     ]
    }
   ],
   "source": [
    "inhull(data_square,list(c(1,1),c(2,1),c(1.5,1.5)))"
   ]
  },
  {
   "cell_type": "markdown",
   "id": "b70925de",
   "metadata": {},
   "source": [
    "#### Test 3: When NONE of the points we want to test are elements from the convex hull"
   ]
  },
  {
   "cell_type": "code",
   "execution_count": 20,
   "id": "366d64d9",
   "metadata": {},
   "outputs": [
    {
     "name": "stdout",
     "output_type": "stream",
     "text": [
      "[1] \"None of the points are in the Convex Hull\"\n"
     ]
    }
   ],
   "source": [
    "inhull(data_square,list(c(1.5,1.5)))"
   ]
  },
  {
   "cell_type": "code",
   "execution_count": 21,
   "id": "c16883df",
   "metadata": {},
   "outputs": [
    {
     "name": "stdout",
     "output_type": "stream",
     "text": [
      "[1] \"None of the points are in the Convex Hull\"\n"
     ]
    }
   ],
   "source": [
    "inhull(data_square,list(c(1.5,1.5),c(1.2,1.2)))"
   ]
  },
  {
   "cell_type": "markdown",
   "id": "19f6ce85",
   "metadata": {},
   "source": [
    "## Part E\n",
    "The jarvis_march function could also take different types of input data structure. We will be illustrating all the possible data structure it could take in the following several test cases.      "
   ]
  },
  {
   "cell_type": "markdown",
   "id": "3c544952",
   "metadata": {},
   "source": [
    "#### Test 1: List"
   ]
  },
  {
   "cell_type": "code",
   "execution_count": 22,
   "id": "182d3db9",
   "metadata": {},
   "outputs": [
    {
     "data": {
      "text/html": [
       "<ol>\n",
       "\t<li><style>\n",
       ".list-inline {list-style: none; margin:0; padding: 0}\n",
       ".list-inline>li {display: inline-block}\n",
       ".list-inline>li:not(:last-child)::after {content: \"\\00b7\"; padding: 0 .5ex}\n",
       "</style>\n",
       "<ol class=list-inline><li>1</li><li>1</li><li>3</li><li>3</li></ol>\n",
       "</li>\n",
       "\t<li><style>\n",
       ".list-inline {list-style: none; margin:0; padding: 0}\n",
       ".list-inline>li {display: inline-block}\n",
       ".list-inline>li:not(:last-child)::after {content: \"\\00b7\"; padding: 0 .5ex}\n",
       "</style>\n",
       "<ol class=list-inline><li>3</li><li>3</li><li>1</li><li>1</li></ol>\n",
       "</li>\n",
       "</ol>\n"
      ],
      "text/latex": [
       "\\begin{enumerate}\n",
       "\\item \\begin{enumerate*}\n",
       "\\item 1\n",
       "\\item 1\n",
       "\\item 3\n",
       "\\item 3\n",
       "\\end{enumerate*}\n",
       "\n",
       "\\item \\begin{enumerate*}\n",
       "\\item 3\n",
       "\\item 3\n",
       "\\item 1\n",
       "\\item 1\n",
       "\\end{enumerate*}\n",
       "\n",
       "\\end{enumerate}\n"
      ],
      "text/markdown": [
       "1. 1. 1\n",
       "2. 1\n",
       "3. 3\n",
       "4. 3\n",
       "\n",
       "\n",
       "\n",
       "2. 1. 3\n",
       "2. 3\n",
       "3. 1\n",
       "4. 1\n",
       "\n",
       "\n",
       "\n",
       "\n",
       "\n"
      ],
      "text/plain": [
       "[[1]]\n",
       "[1] 1 1 3 3\n",
       "\n",
       "[[2]]\n",
       "[1] 3 3 1 1\n"
      ]
     },
     "metadata": {},
     "output_type": "display_data"
    }
   ],
   "source": [
    "dt1<- list(c(1,1),c(2,2),c(3,3))\n",
    "jarvis_march(dt1)"
   ]
  },
  {
   "cell_type": "markdown",
   "id": "241b3158",
   "metadata": {},
   "source": [
    "#### Test 2: Dataframe"
   ]
  },
  {
   "cell_type": "code",
   "execution_count": 23,
   "id": "c73b9dad",
   "metadata": {},
   "outputs": [
    {
     "data": {
      "text/html": [
       "<ol>\n",
       "\t<li><style>\n",
       ".list-inline {list-style: none; margin:0; padding: 0}\n",
       ".list-inline>li {display: inline-block}\n",
       ".list-inline>li:not(:last-child)::after {content: \"\\00b7\"; padding: 0 .5ex}\n",
       "</style>\n",
       "<ol class=list-inline><li>1</li><li>1</li><li>3</li><li>3</li></ol>\n",
       "</li>\n",
       "\t<li><style>\n",
       ".list-inline {list-style: none; margin:0; padding: 0}\n",
       ".list-inline>li {display: inline-block}\n",
       ".list-inline>li:not(:last-child)::after {content: \"\\00b7\"; padding: 0 .5ex}\n",
       "</style>\n",
       "<ol class=list-inline><li>3</li><li>3</li><li>1</li><li>1</li></ol>\n",
       "</li>\n",
       "</ol>\n"
      ],
      "text/latex": [
       "\\begin{enumerate}\n",
       "\\item \\begin{enumerate*}\n",
       "\\item 1\n",
       "\\item 1\n",
       "\\item 3\n",
       "\\item 3\n",
       "\\end{enumerate*}\n",
       "\n",
       "\\item \\begin{enumerate*}\n",
       "\\item 3\n",
       "\\item 3\n",
       "\\item 1\n",
       "\\item 1\n",
       "\\end{enumerate*}\n",
       "\n",
       "\\end{enumerate}\n"
      ],
      "text/markdown": [
       "1. 1. 1\n",
       "2. 1\n",
       "3. 3\n",
       "4. 3\n",
       "\n",
       "\n",
       "\n",
       "2. 1. 3\n",
       "2. 3\n",
       "3. 1\n",
       "4. 1\n",
       "\n",
       "\n",
       "\n",
       "\n",
       "\n"
      ],
      "text/plain": [
       "[[1]]\n",
       "[1] 1 1 3 3\n",
       "\n",
       "[[2]]\n",
       "[1] 3 3 1 1\n"
      ]
     },
     "metadata": {},
     "output_type": "display_data"
    }
   ],
   "source": [
    "dt2<- data.frame(x=c(1,2,3),y=c(1,2,3))\n",
    "jarvis_march(dt2)"
   ]
  },
  {
   "cell_type": "markdown",
   "id": "ce249a9e",
   "metadata": {},
   "source": [
    "#### Test 3: Matrix"
   ]
  },
  {
   "cell_type": "code",
   "execution_count": 24,
   "id": "4989edb6",
   "metadata": {},
   "outputs": [
    {
     "name": "stderr",
     "output_type": "stream",
     "text": [
      "Warning message in if (class(input) == \"data.frame\") {:\n",
      "“the condition has length > 1 and only the first element will be used”\n",
      "Warning message in if (class(input) != \"data.frame\") {:\n",
      "“the condition has length > 1 and only the first element will be used”\n"
     ]
    },
    {
     "data": {
      "text/html": [
       "<ol>\n",
       "\t<li><style>\n",
       ".list-inline {list-style: none; margin:0; padding: 0}\n",
       ".list-inline>li {display: inline-block}\n",
       ".list-inline>li:not(:last-child)::after {content: \"\\00b7\"; padding: 0 .5ex}\n",
       "</style>\n",
       "<ol class=list-inline><li>1</li><li>1</li><li>3</li><li>3</li></ol>\n",
       "</li>\n",
       "\t<li><style>\n",
       ".list-inline {list-style: none; margin:0; padding: 0}\n",
       ".list-inline>li {display: inline-block}\n",
       ".list-inline>li:not(:last-child)::after {content: \"\\00b7\"; padding: 0 .5ex}\n",
       "</style>\n",
       "<ol class=list-inline><li>3</li><li>3</li><li>1</li><li>1</li></ol>\n",
       "</li>\n",
       "</ol>\n"
      ],
      "text/latex": [
       "\\begin{enumerate}\n",
       "\\item \\begin{enumerate*}\n",
       "\\item 1\n",
       "\\item 1\n",
       "\\item 3\n",
       "\\item 3\n",
       "\\end{enumerate*}\n",
       "\n",
       "\\item \\begin{enumerate*}\n",
       "\\item 3\n",
       "\\item 3\n",
       "\\item 1\n",
       "\\item 1\n",
       "\\end{enumerate*}\n",
       "\n",
       "\\end{enumerate}\n"
      ],
      "text/markdown": [
       "1. 1. 1\n",
       "2. 1\n",
       "3. 3\n",
       "4. 3\n",
       "\n",
       "\n",
       "\n",
       "2. 1. 3\n",
       "2. 3\n",
       "3. 1\n",
       "4. 1\n",
       "\n",
       "\n",
       "\n",
       "\n",
       "\n"
      ],
      "text/plain": [
       "[[1]]\n",
       "[1] 1 1 3 3\n",
       "\n",
       "[[2]]\n",
       "[1] 3 3 1 1\n"
      ]
     },
     "metadata": {},
     "output_type": "display_data"
    }
   ],
   "source": [
    "dt3<- matrix(c(1,1,2,2,3,3),nrow=3,ncol=2, byrow=TRUE)\n",
    "jarvis_march(dt3)"
   ]
  },
  {
   "cell_type": "markdown",
   "id": "c884b250",
   "metadata": {},
   "source": [
    "## Part F\n",
    "Error checking in the jarvis_march function. There are some scenarios where the input we give to the jarvis march function that might break the function. The following are two examples of such scenarios. By adjusting the function, we should get corresponding error message as a warning on what's wrong with the input."
   ]
  },
  {
   "cell_type": "markdown",
   "id": "c9396e75",
   "metadata": {},
   "source": [
    "#### Test 1: When the input data structure is not acceptable for the algorithm"
   ]
  },
  {
   "cell_type": "code",
   "execution_count": 25,
   "id": "74e1cfe5",
   "metadata": {},
   "outputs": [
    {
     "ename": "ERROR",
     "evalue": "Error in jarvis_march(er1): This function only accepts input class being a list, a matrix or a dataframe\n",
     "output_type": "error",
     "traceback": [
      "Error in jarvis_march(er1): This function only accepts input class being a list, a matrix or a dataframe\nTraceback:\n",
      "1. jarvis_march(er1)",
      "2. stop(\"This function only accepts input class being a list, a matrix or a dataframe\")"
     ]
    }
   ],
   "source": [
    "er1<- c(1,1,2,2,3,3)\n",
    "jarvis_march(er1)"
   ]
  },
  {
   "cell_type": "markdown",
   "id": "8a74705a",
   "metadata": {},
   "source": [
    "#### Test 2: When the input data set has less than 3 points "
   ]
  },
  {
   "cell_type": "code",
   "execution_count": 26,
   "id": "9656e6e4",
   "metadata": {},
   "outputs": [
    {
     "ename": "ERROR",
     "evalue": "Error in jarvis_march(er2): The length of input points should be larger than 2!\n",
     "output_type": "error",
     "traceback": [
      "Error in jarvis_march(er2): The length of input points should be larger than 2!\nTraceback:\n",
      "1. jarvis_march(er2)",
      "2. stop(\"The length of input points should be larger than 2!\")"
     ]
    }
   ],
   "source": [
    "er2<- list(c(1,1))\n",
    "jarvis_march(er2)"
   ]
  },
  {
   "cell_type": "code",
   "execution_count": null,
   "id": "51576e29",
   "metadata": {},
   "outputs": [],
   "source": []
  }
 ],
 "metadata": {
  "kernelspec": {
   "display_name": "R",
   "language": "R",
   "name": "ir"
  },
  "language_info": {
   "codemirror_mode": "r",
   "file_extension": ".r",
   "mimetype": "text/x-r-source",
   "name": "R",
   "pygments_lexer": "r",
   "version": "4.1.2"
  }
 },
 "nbformat": 4,
 "nbformat_minor": 5
}
