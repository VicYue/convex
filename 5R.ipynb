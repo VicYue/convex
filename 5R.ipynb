{
 "cells": [
  {
   "cell_type": "markdown",
   "id": "2f5f1740",
   "metadata": {},
   "source": [
    "# Five Rs Comparison"
   ]
  },
  {
   "cell_type": "markdown",
   "id": "cbcd6e2e",
   "metadata": {},
   "source": [
    "|  | Replicable | Reproducible | Repeatable | Rerunable | Reusable |\n",
    "|----|----|----|----|----|----|\n",
    "| Pseudo Code | 1 |4 |4 |4 |4 |\n",
    "| Python | 2 |2 |2 |3 |2 |\n",
    "| C++ | 4 |3 |3 |2 |3 |\n",
    "| R package | 3 |1 |1 |1 |1 |"
   ]
  },
  {
   "cell_type": "markdown",
   "id": "53d41390",
   "metadata": {},
   "source": [
    "## Replicable\n",
    "\n",
    "Replicable means the description the program provides of the algorithm is sufficiently precise and complete to allow other researchers re-obatin the results it presents. Pseudo code is a good example of replicability. Using an accurate and detailed pseudo code could be helpful as based on the pseudo code, researchers could write up their new code matching the conceptual description and eventually make the codes following all the following 4 Rs. My Python code is also written with detailed comment on what does each of the important lines of codes does. Therefore it can be helpful in terms of replicability. The R package and C++ all use the C++ codes as base and there aren't many de"
   ]
  },
  {
   "cell_type": "markdown",
   "id": "dbb69329",
   "metadata": {},
   "source": [
    "## Reproducible\n",
    "\n",
    "Reproducible require the program to re-obtain the same result of another researcher takes the  original code and input data and execute it. It implies rerunability, repeatability and also availability. The R package might be the most reproducible one as it is uploaded to the github and can be downloaded in any R environment, meanwhile the exact R code and C++ scripts are included offering the researchers to make adjustments based on their coding system. Also the deterministic results on test cases on the program is avalaible online. Therefore, it is more reachable comparing to C++ and Python codes. Python comparing to C++ is more easy to understand in terms of reading and understanding the code, it might be more easy to amend to the version that suits the researcher best. The pseudo code can not to conducted and requires the researchers to build their own code from scratches have the risk of not being able to reproduce the same accurate result."
   ]
  },
  {
   "cell_type": "markdown",
   "id": "eda59c5c",
   "metadata": {},
   "source": [
    "## Repeatable\n",
    "\n",
    "Repeatable means that the code is running and producing the expected results and the program is deterministic and producing repeatable output over successive runs of the program. As the convex hull algorithm is deterministic, so there won't be issues with setting random seeds. However, if one wants to test the algorithm, they are set seed one the same exact input. R package is the best among all, since it fixed the algorithm in a function in R package, so when users use the function, it will produce the same results for a certain given input. As the test cases in the jupyter notebook shows, the R package functions does the accurate and repeatable solutions. It is more robust comparing to Python or C++ code. Again, pseudo code is not a real code, so it can not directly give the expected results users wished for."
   ]
  },
  {
   "cell_type": "markdown",
   "id": "14b9f784",
   "metadata": {},
   "source": [
    "## Rerunable\n",
    "\n",
    "Rerunable means that the code can be run again when needed and this might face the problem of  sustainability whether the code can adapt to any hardware as time goes. Pseudo code although illustrate clearly what the algorithm does, but it is not a real code that can be conducted by users. Some of the current exsiting Python package might be invalid in the future, and this could affect the code's rerunability. C++ have the similar problem as Python as different version of C++ might be different in terms of using packages and functions. However, by R package might contain not only the code itself, but also files discribing each of the functions within the package. Meanwhile, uploading the R package  this is more helpful in terms of rerunability as users can adapt the function to their working enviroment by themselves. Together using R package and accurate pseudo code as the documentation will improve the rerunability of the codes, one could also use the forums and public repositories to help adjust their codes to specific coding environment.    "
   ]
  },
  {
   "cell_type": "markdown",
   "id": "07fad5a7",
   "metadata": {},
   "source": [
    "## Reusable\n",
    "\n",
    "A code is reusable if the program is easily used and modified by other researchers. The easier it is to make use of the code, the lower the threshold it is for researchers to learn and improve it. Comparing the four different code(algorithm), I would say R package is the most reusable one. Firstly, the R package is upload to the github where anyone could use and make contribution to, there are also documentations along with the code in describing what does each of the function does, for instance, this include the requirement for input structure and the data structure of the output. Both the R function and C++ scripts are offered where researchers could made changes to. Python code is better than C++ since it is more easy to understand and therefore could be tested and used by more researhcers. Although there are quite a few C++ users, the C++ code might still be hard to understand and make changes to. Pseudo code is not a real code, by only based on the pseudo code, different researchers may have different understanding and might end up getting inconsistent results."
   ]
  },
  {
   "cell_type": "code",
   "execution_count": null,
   "id": "b5f18eb0",
   "metadata": {},
   "outputs": [],
   "source": []
  }
 ],
 "metadata": {
  "kernelspec": {
   "display_name": "R",
   "language": "R",
   "name": "ir"
  },
  "language_info": {
   "codemirror_mode": "r",
   "file_extension": ".r",
   "mimetype": "text/x-r-source",
   "name": "R",
   "pygments_lexer": "r",
   "version": "4.1.2"
  }
 },
 "nbformat": 4,
 "nbformat_minor": 5
}
